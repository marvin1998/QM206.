{
  "nbformat": 4,
  "nbformat_minor": 0,
  "metadata": {
    "colab": {
      "name": "Copia de Untitled3.ipynb",
      "version": "0.3.2",
      "provenance": [],
      "include_colab_link": true
    },
    "kernelspec": {
      "name": "python2",
      "display_name": "Python 2"
    }
  },
  "cells": [
    {
      "cell_type": "markdown",
      "metadata": {
        "id": "view-in-github",
        "colab_type": "text"
      },
      "source": [
        "<a href=\"https://colab.research.google.com/github/marvin1998/QM206./blob/master/Copia_de_Untitled3.ipynb\" target=\"_parent\"><img src=\"https://colab.research.google.com/assets/colab-badge.svg\" alt=\"Open In Colab\"/></a>"
      ]
    },
    {
      "cell_type": "code",
      "metadata": {
        "id": "CTSFVWKYKBY4",
        "colab_type": "code",
        "outputId": "15e90fc2-dbf6-45d0-f8ba-fee76d6a2ec8",
        "colab": {
          "base_uri": "https://localhost:8080/",
          "height": 588
        }
      },
      "source": [
        "Nicotina=open(\"NIcotina.mol\", \"r\")\n",
        "datos=Nicotina.read().split(\"\\n\")\n",
        "nombre=datos[0]\n",
        "x=datos[3]\n",
        "print(datos)\n",
        "print(x)\n",
        "nAtomos=int(x[0:3])\n",
        "print(nAtomos)\n",
        "nEnlaces=int(x[4:6])\n",
        "print(nEnlaces)\n",
        "\n",
        "for i in range (0,nAtomos):\n",
        "   atomo=datos[i+4]\n",
        "   x=atomo[4:10]\n",
        "   y=atomo[14:20]\n",
        "   simb=atomo[31:33]\n",
        "   print(x,y,simb)\n",
        "for i in range(0,nEnlaces):\n",
        "  enlaces=datos[i+4+nAtomos]\n",
        "  n1=int(enlaces[1:3])\n",
        "  n2=int(enlaces[4:6])\n",
        "  tipo=int(enlaces[7:9])\n",
        "  print(n1,n2,tipo)"
      ],
      "execution_count": 0,
      "outputs": [
        {
          "output_type": "stream",
          "text": [
            "['Nicotine, ID: C23950041\\r', '  NIST    19090417562D 1   1.00000     0.00000      \\r', 'Copyright by the U.S. Sec. Commerce on behalf of U.S.A. All rights reserved.\\r', ' 12 13  0     0  0              1 V2000\\r', '    1.6717    2.0770    0.0000 C   0  0  0  0  0  0           0  0  0\\r', '    0.8612    1.5704    0.0000 N   0  0  0  0  0  0           0  0  0\\r', '    1.6717    3.0901    0.0000 C   0  0  0  0  0  0           0  0  0\\r', '    2.5836    1.5704    0.0000 C   0  0  0  0  0  0           0  0  0\\r', '    0.8612    3.5967    0.0000 C   0  0  0  0  0  0           0  0  0\\r', '    0.0000    3.0901    0.0000 C   0  0  0  0  0  0           0  0  0\\r', '    0.0000    2.0770    0.0000 C   0  0  0  0  0  0           0  0  0\\r', '    3.3941    0.9625    0.0000 N   0  0  0  0  0  0           0  0  0\\r', '    4.2046    1.5704    0.0000 C   0  0  0  0  0  0           0  0  0\\r', '    3.3941    0.0000    0.0000 C   0  0  0  0  0  0           0  0  0\\r', '    3.9007    2.5329    0.0000 C   0  0  0  0  0  0           0  0  0\\r', '    2.8875    2.5329    0.0000 C   0  0  0  0  0  0           0  0  0\\r', '  1  2  2  0     0  0\\r', '  3  1  1  0     0  0\\r', '  1  4  1  0     0  0\\r', '  2  7  1  0     0  0\\r', '  5  3  2  0     0  0\\r', '  8  4  1  0     0  0\\r', '  4 12  1  0     0  0\\r', '  6  5  1  0     0  0\\r', '  7  6  2  0     0  0\\r', '  9  8  1  0     0  0\\r', '  8 10  1  0     0  0\\r', ' 11  9  1  0     0  0\\r', ' 12 11  1  0     0  0\\r', 'M  END\\r', '']\n",
            " 12 13  0     0  0              1 V2000\r\n",
            "12\n",
            "13\n",
            "('1.6717', '2.0770', 'C ')\n",
            "('0.8612', '1.5704', 'N ')\n",
            "('1.6717', '3.0901', 'C ')\n",
            "('2.5836', '1.5704', 'C ')\n",
            "('0.8612', '3.5967', 'C ')\n",
            "('0.0000', '3.0901', 'C ')\n",
            "('0.0000', '2.0770', 'C ')\n",
            "('3.3941', '0.9625', 'N ')\n",
            "('4.2046', '1.5704', 'C ')\n",
            "('3.3941', '0.0000', 'C ')\n",
            "('3.9007', '2.5329', 'C ')\n",
            "('2.8875', '2.5329', 'C ')\n",
            "(1, 2, 2)\n",
            "(3, 1, 1)\n",
            "(1, 4, 1)\n",
            "(2, 7, 1)\n",
            "(5, 3, 2)\n",
            "(8, 4, 1)\n",
            "(4, 12, 1)\n",
            "(6, 5, 1)\n",
            "(7, 6, 2)\n",
            "(9, 8, 1)\n",
            "(8, 10, 1)\n",
            "(11, 9, 1)\n",
            "(12, 11, 1)\n"
          ],
          "name": "stdout"
        }
      ]
    }
  ]
}