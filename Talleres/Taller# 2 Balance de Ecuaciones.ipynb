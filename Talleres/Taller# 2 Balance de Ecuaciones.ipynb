{
 "cells": [
  {
   "cell_type": "code",
   "execution_count": 4,
   "metadata": {},
   "outputs": [],
   "source": [
    "import numpy as np"
   ]
  },
  {
   "cell_type": "code",
   "execution_count": 13,
   "metadata": {},
   "outputs": [
    {
     "name": "stdout",
     "output_type": "stream",
     "text": [
      "[0.5 1.  0.5]\n"
     ]
    }
   ],
   "source": [
    "mat=np.array([[2,1,0],[1,0,-1],[4,1,-4],[0,1,-2]])\n",
    "y=np.array([2,0,1,0])\n",
    "x=np.linalg.lstsq(mat,y,rcond=None)[0]\n",
    "print(x)"
   ]
  },
  {
   "cell_type": "code",
   "execution_count": 16,
   "metadata": {},
   "outputs": [
    {
     "name": "stdout",
     "output_type": "stream",
     "text": [
      "c=1.000000\n"
     ]
    }
   ],
   "source": [
    "c=sum(x*mat[0])/y[0]\n",
    "print(\"c=%f\"%c)"
   ]
  },
  {
   "cell_type": "markdown",
   "metadata": {},
   "source": [
    "## Balance de Ecuaciones\n",
    "$FeSO_4+KMnO_4+H_2SO_4 -> Fe_2(SO_4)_3+MnSO_4+K_2SO_4+H_2O$\n"
   ]
  },
  {
   "cell_type": "code",
   "execution_count": 20,
   "metadata": {},
   "outputs": [
    {
     "name": "stdout",
     "output_type": "stream",
     "text": [
      "[1.25  0.25  1.    0.625 0.25  0.125]\n",
      "c=1.000000\n"
     ]
    }
   ],
   "source": [
    "mat=np.array([[1,0,0,-2,0,0],[1,0,1,-3,-1,-1],[4,4,4,-12,-4,-4],[0,1,0,0,0,-2],[0,1,0,0,-1,0],[0,0,2,0,0,0]])\n",
    "y=np.array([0,0,1,0,0,2])\n",
    "x=np.linalg.lstsq(mat,y,rcond=None)[0]\n",
    "print(x)\n",
    "c=sum(x*mat[2]/y[2])\n",
    "print(\"c=%f\"%c)"
   ]
  },
  {
   "cell_type": "markdown",
   "metadata": {},
   "source": []
  }
 ],
 "metadata": {
  "kernelspec": {
   "display_name": "Python 3",
   "language": "python",
   "name": "python3"
  },
  "language_info": {
   "codemirror_mode": {
    "name": "ipython",
    "version": 3
   },
   "file_extension": ".py",
   "mimetype": "text/x-python",
   "name": "python",
   "nbconvert_exporter": "python",
   "pygments_lexer": "ipython3",
   "version": "3.6.5"
  }
 },
 "nbformat": 4,
 "nbformat_minor": 2
}
